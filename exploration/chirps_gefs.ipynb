{
 "cells": [
  {
   "cell_type": "markdown",
   "id": "34ff943e-9c50-4440-9b0d-ec6c917938f6",
   "metadata": {},
   "source": [
    "# CHIRPS-GEFS\n",
    "\n",
    "Process CHIRPS-GEFS"
   ]
  },
  {
   "cell_type": "code",
   "execution_count": 3,
   "id": "ab407a15-e699-4b8d-bb58-1d8bfe485412",
   "metadata": {},
   "outputs": [
    {
     "data": {
      "text/html": [
       "\n",
       "                <script type=\"application/javascript\" id=\"jupyter_black\">\n",
       "                (function() {\n",
       "                    if (window.IPython === undefined) {\n",
       "                        return\n",
       "                    }\n",
       "                    var msg = \"WARNING: it looks like you might have loaded \" +\n",
       "                        \"jupyter_black in a non-lab notebook with \" +\n",
       "                        \"`is_lab=True`. Please double check, and if \" +\n",
       "                        \"loading with `%load_ext` please review the README!\"\n",
       "                    console.log(msg)\n",
       "                    alert(msg)\n",
       "                })()\n",
       "                </script>\n",
       "                "
      ],
      "text/plain": [
       "<IPython.core.display.HTML object>"
      ]
     },
     "metadata": {},
     "output_type": "display_data"
    }
   ],
   "source": [
    "%load_ext jupyter_black\n",
    "%load_ext autoreload\n",
    "%autoreload 2"
   ]
  },
  {
   "cell_type": "code",
   "execution_count": 4,
   "id": "711ee43c-5682-4f80-baa4-6d6637995a38",
   "metadata": {},
   "outputs": [
    {
     "name": "stdout",
     "output_type": "stream",
     "text": [
      "All imports successful!\n"
     ]
    }
   ],
   "source": [
    "import pandas as pd\n",
    "import xarray as xr\n",
    "import ocha_stratus as stratus\n",
    "from sqlalchemy import text\n",
    "from tqdm.auto import tqdm\n",
    "from azure.core.exceptions import ResourceNotFoundError\n",
    "\n",
    "from src.datasources.chirps_gefs import ChirpsGefsConfig, ChirpsGefsLoader\n",
    "from src.datasources import codab\n",
    "from src.constants import *\n",
    "from src.utils.database import create_chirps_gefs_table"
   ]
  },
  {
   "cell_type": "code",
   "execution_count": 5,
   "id": "d28758b5-7a3d-499a-b3c8-28ceb405fe93",
   "metadata": {},
   "outputs": [],
   "source": [
    "TABLE_NAME = f'{PROJECT_PREFIX.replace(\"-\", \"_\")}_chirps_gefs'"
   ]
  },
  {
   "cell_type": "code",
   "execution_count": 6,
   "id": "d11b8245-1ffc-4483-b64c-cb1393c745c6",
   "metadata": {},
   "outputs": [
    {
     "data": {
      "text/plain": [
       "'ds_aa_cub_hurricanes_chirps_gefs'"
      ]
     },
     "execution_count": 6,
     "metadata": {},
     "output_type": "execute_result"
    }
   ],
   "source": [
    "TABLE_NAME"
   ]
  },
  {
   "cell_type": "code",
   "execution_count": 7,
   "id": "e8c9fad8-04df-4e62-90cc-1e8c02214571",
   "metadata": {},
   "outputs": [],
   "source": [
    "# create projects schema\n",
    "# try:\n",
    "#     with stratus.get_engine(\"dev\", write=True).begin() as conn:\n",
    "#         conn.execute(text(f\"CREATE SCHEMA IF NOT EXISTS {SCHEMA_NAME}\"))\n",
    "# except Exception as e:\n",
    "#     print(\"Schema creation failed:\", e)"
   ]
  },
  {
   "cell_type": "code",
   "execution_count": 8,
   "id": "2fe9b1bd-2b09-4f40-9717-85f3b5580974",
   "metadata": {},
   "outputs": [],
   "source": [
    "# create_chirps_gefs_table(TABLE_NAME, stratus.get_engine(\"dev\", write=True))"
   ]
  },
  {
   "cell_type": "code",
   "execution_count": 9,
   "id": "8dc24c1b-ec81-4828-bf07-75d59b677948",
   "metadata": {},
   "outputs": [],
   "source": [
    "adm0 = codab.load_codab_from_blob()"
   ]
  },
  {
   "cell_type": "code",
   "execution_count": 10,
   "id": "c5bc5285-2fa1-456f-b8b4-3573f2cfb2db",
   "metadata": {},
   "outputs": [
    {
     "data": {
      "text/plain": [
       "<Axes: >"
      ]
     },
     "execution_count": 10,
     "metadata": {},
     "output_type": "execute_result"
    },
    {
     "data": {
      "image/png": "[encoded data removed]",
      "text/plain": [
       "<Figure size 640x480 with 1 Axes>"
      ]
     },
     "metadata": {},
     "output_type": "display_data"
    }
   ],
   "source": [
    "adm0.plot()"
   ]
  },
  {
   "cell_type": "code",
   "execution_count": 11,
   "id": "9a4fabfa-42dc-4344-b702-fb1dc1ecec72",
   "metadata": {},
   "outputs": [],
   "source": [
    "config = ChirpsGefsConfig(geometry=adm0, region_name=\"databricks_run\")\n",
    "loader = ChirpsGefsLoader(config)"
   ]
  },
  {
   "cell_type": "code",
   "execution_count": 12,
   "id": "bc66b3ca-1c5b-47bf-9082-dc0a87bebc5d",
   "metadata": {
    "scrolled": true
   },
   "outputs": [],
   "source": [
    "query = f\"\"\"\n",
    "SELECT issued_date, COUNT(*) AS n_entries\n",
    "FROM projects.{TABLE_NAME}\n",
    "GROUP BY issued_date\n",
    "ORDER BY issued_date;\n",
    "\"\"\"\n",
    "\n",
    "df_existing_dates = pd.read_sql(\n",
    "    query, stratus.get_engine(\"dev\"), parse_dates=\"issued_date\"\n",
    ")"
   ]
  },
  {
   "cell_type": "code",
   "execution_count": 13,
   "id": "af60d373-f037-4a3d-a810-005fbffa8745",
   "metadata": {
    "scrolled": true
   },
   "outputs": [
    {
     "data": {
      "text/html": [
       "<div>\n",
       "<style scoped>\n",
       "    .dataframe tbody tr th:only-of-type {\n",
       "        vertical-align: middle;\n",
       "    }\n",
       "\n",
       "    .dataframe tbody tr th {\n",
       "        vertical-align: top;\n",
       "    }\n",
       "\n",
       "    .dataframe thead th {\n",
       "        text-align: right;\n",
       "    }\n",
       "</style>\n",
       "<table border=\"1\" class=\"dataframe\">\n",
       "  <thead>\n",
       "    <tr style=\"text-align: right;\">\n",
       "      <th></th>\n",
       "      <th>issued_date</th>\n",
       "      <th>n_entries</th>\n",
       "    </tr>\n",
       "  </thead>\n",
       "  <tbody>\n",
       "    <tr>\n",
       "      <th>0</th>\n",
       "      <td>2000-01-01</td>\n",
       "      <td>96</td>\n",
       "    </tr>\n",
       "    <tr>\n",
       "      <th>1</th>\n",
       "      <td>2000-01-02</td>\n",
       "      <td>96</td>\n",
       "    </tr>\n",
       "    <tr>\n",
       "      <th>2</th>\n",
       "      <td>2000-01-03</td>\n",
       "      <td>96</td>\n",
       "    </tr>\n",
       "    <tr>\n",
       "      <th>3</th>\n",
       "      <td>2000-01-04</td>\n",
       "      <td>96</td>\n",
       "    </tr>\n",
       "    <tr>\n",
       "      <th>4</th>\n",
       "      <td>2000-01-05</td>\n",
       "      <td>96</td>\n",
       "    </tr>\n",
       "    <tr>\n",
       "      <th>...</th>\n",
       "      <td>...</td>\n",
       "      <td>...</td>\n",
       "    </tr>\n",
       "    <tr>\n",
       "      <th>4206</th>\n",
       "      <td>2011-07-11</td>\n",
       "      <td>96</td>\n",
       "    </tr>\n",
       "    <tr>\n",
       "      <th>4207</th>\n",
       "      <td>2011-07-12</td>\n",
       "      <td>96</td>\n",
       "    </tr>\n",
       "    <tr>\n",
       "      <th>4208</th>\n",
       "      <td>2011-07-13</td>\n",
       "      <td>96</td>\n",
       "    </tr>\n",
       "    <tr>\n",
       "      <th>4209</th>\n",
       "      <td>2011-07-14</td>\n",
       "      <td>96</td>\n",
       "    </tr>\n",
       "    <tr>\n",
       "      <th>4210</th>\n",
       "      <td>2011-07-15</td>\n",
       "      <td>48</td>\n",
       "    </tr>\n",
       "  </tbody>\n",
       "</table>\n",
       "<p>4211 rows × 2 columns</p>\n",
       "</div>"
      ],
      "text/plain": [
       "     issued_date  n_entries\n",
       "0     2000-01-01         96\n",
       "1     2000-01-02         96\n",
       "2     2000-01-03         96\n",
       "3     2000-01-04         96\n",
       "4     2000-01-05         96\n",
       "...          ...        ...\n",
       "4206  2011-07-11         96\n",
       "4207  2011-07-12         96\n",
       "4208  2011-07-13         96\n",
       "4209  2011-07-14         96\n",
       "4210  2011-07-15         48\n",
       "\n",
       "[4211 rows x 2 columns]"
      ]
     },
     "execution_count": 13,
     "metadata": {},
     "output_type": "execute_result"
    }
   ],
   "source": [
    "df_existing_dates"
   ]
  },
  {
   "cell_type": "code",
   "execution_count": 14,
   "id": "eebd7435-f31f-4f2e-8058-59968006766a",
   "metadata": {},
   "outputs": [],
   "source": [
    "# check complete dates - we have to do this because some dates might not have all the stats\n",
    "df_complete_dates = df_existing_dates[\n",
    "    df_existing_dates[\"n_entries\"] == df_existing_dates[\"n_entries\"].max()\n",
    "]"
   ]
  },
  {
   "cell_type": "code",
   "execution_count": 15,
   "id": "c2377001-eb05-4992-ab15-b23d8e265861",
   "metadata": {
    "scrolled": true
   },
   "outputs": [
    {
     "data": {
      "text/html": [
       "<div>\n",
       "<style scoped>\n",
       "    .dataframe tbody tr th:only-of-type {\n",
       "        vertical-align: middle;\n",
       "    }\n",
       "\n",
       "    .dataframe tbody tr th {\n",
       "        vertical-align: top;\n",
       "    }\n",
       "\n",
       "    .dataframe thead th {\n",
       "        text-align: right;\n",
       "    }\n",
       "</style>\n",
       "<table border=\"1\" class=\"dataframe\">\n",
       "  <thead>\n",
       "    <tr style=\"text-align: right;\">\n",
       "      <th></th>\n",
       "      <th>issued_date</th>\n",
       "      <th>n_entries</th>\n",
       "    </tr>\n",
       "  </thead>\n",
       "  <tbody>\n",
       "    <tr>\n",
       "      <th>0</th>\n",
       "      <td>2000-01-01</td>\n",
       "      <td>96</td>\n",
       "    </tr>\n",
       "    <tr>\n",
       "      <th>1</th>\n",
       "      <td>2000-01-02</td>\n",
       "      <td>96</td>\n",
       "    </tr>\n",
       "    <tr>\n",
       "      <th>2</th>\n",
       "      <td>2000-01-03</td>\n",
       "      <td>96</td>\n",
       "    </tr>\n",
       "    <tr>\n",
       "      <th>3</th>\n",
       "      <td>2000-01-04</td>\n",
       "      <td>96</td>\n",
       "    </tr>\n",
       "    <tr>\n",
       "      <th>4</th>\n",
       "      <td>2000-01-05</td>\n",
       "      <td>96</td>\n",
       "    </tr>\n",
       "    <tr>\n",
       "      <th>...</th>\n",
       "      <td>...</td>\n",
       "      <td>...</td>\n",
       "    </tr>\n",
       "    <tr>\n",
       "      <th>4205</th>\n",
       "      <td>2011-07-10</td>\n",
       "      <td>96</td>\n",
       "    </tr>\n",
       "    <tr>\n",
       "      <th>4206</th>\n",
       "      <td>2011-07-11</td>\n",
       "      <td>96</td>\n",
       "    </tr>\n",
       "    <tr>\n",
       "      <th>4207</th>\n",
       "      <td>2011-07-12</td>\n",
       "      <td>96</td>\n",
       "    </tr>\n",
       "    <tr>\n",
       "      <th>4208</th>\n",
       "      <td>2011-07-13</td>\n",
       "      <td>96</td>\n",
       "    </tr>\n",
       "    <tr>\n",
       "      <th>4209</th>\n",
       "      <td>2011-07-14</td>\n",
       "      <td>96</td>\n",
       "    </tr>\n",
       "  </tbody>\n",
       "</table>\n",
       "<p>4210 rows × 2 columns</p>\n",
       "</div>"
      ],
      "text/plain": [
       "     issued_date  n_entries\n",
       "0     2000-01-01         96\n",
       "1     2000-01-02         96\n",
       "2     2000-01-03         96\n",
       "3     2000-01-04         96\n",
       "4     2000-01-05         96\n",
       "...          ...        ...\n",
       "4205  2011-07-10         96\n",
       "4206  2011-07-11         96\n",
       "4207  2011-07-12         96\n",
       "4208  2011-07-13         96\n",
       "4209  2011-07-14         96\n",
       "\n",
       "[4210 rows x 2 columns]"
      ]
     },
     "execution_count": 15,
     "metadata": {},
     "output_type": "execute_result"
    }
   ],
   "source": [
    "df_complete_dates"
   ]
  },
  {
   "cell_type": "code",
   "execution_count": 16,
   "id": "0e755a81-d18e-4e30-9f34-125e4dfdbc84",
   "metadata": {},
   "outputs": [],
   "source": [
    "def write_to_db(df_out):\n",
    "    df_out.to_sql(\n",
    "        name=TABLE_NAME,\n",
    "        con=stratus.get_engine(\"dev\", write=True),\n",
    "        schema=\"projects\",\n",
    "        if_exists=\"append\",\n",
    "        method=stratus.postgres_upsert,\n",
    "        index=False,\n",
    "    )"
   ]
  },
  {
   "cell_type": "code",
   "execution_count": 17,
   "id": "eecdc1f1-5898-44a4-83e0-b84bf8b0046e",
   "metadata": {},
   "outputs": [],
   "source": [
    "quantiles = [0.5, 0.8, 0.9, 0.95, 0.99]"
   ]
  },
  {
   "cell_type": "code",
   "execution_count": null,
   "id": "dea885d2-740c-4c24-bb9c-5d43bf9fc58d",
   "metadata": {
    "scrolled": true
   },
   "outputs": [
    {
     "name": "stdout",
     "output_type": "stream",
     "text": [
      "processing for dates:\n"
     ]
    },
    {
     "data": {
      "text/plain": [
       "DatetimeIndex(['2000-02-29', '2004-02-29', '2008-02-29', '2011-07-15',\n",
       "               '2011-07-16', '2011-07-17', '2011-07-18', '2011-07-19',\n",
       "               '2011-07-20', '2011-07-21',\n",
       "               ...\n",
       "               '2024-12-22', '2024-12-23', '2024-12-24', '2024-12-25',\n",
       "               '2024-12-26', '2024-12-27', '2024-12-28', '2024-12-29',\n",
       "               '2024-12-30', '2024-12-31'],\n",
       "              dtype='datetime64[ns]', length=4922, freq=None)"
      ]
     },
     "metadata": {},
     "output_type": "display_data"
    },
    {
     "data": {
      "application/vnd.jupyter.widget-view+json": {
       "model_id": "798dfbc0a2fd4765b5ab71f86a35012c",
       "version_major": 2,
       "version_minor": 0
      },
      "text/plain": [
       "  0%|          | 0/4922 [00:00<?, ?it/s]"
      ]
     },
     "metadata": {},
     "output_type": "display_data"
    },
    {
     "name": "stderr",
     "output_type": "stream",
     "text": [
      "/Users/tdowning/.pyenv/versions/ds-aa-cub-hurricanes/lib/python3.11/site-packages/numpy/lib/_nanfunctions_impl.py:1620: RuntimeWarning: All-NaN slice encountered\n",
      "  return fnb._ureduce(a,\n",
      "/Users/tdowning/.pyenv/versions/ds-aa-cub-hurricanes/lib/python3.11/site-packages/numpy/lib/_nanfunctions_impl.py:1620: RuntimeWarning: All-NaN slice encountered\n",
      "  return fnb._ureduce(a,\n",
      "/Users/tdowning/.pyenv/versions/ds-aa-cub-hurricanes/lib/python3.11/site-packages/numpy/lib/_nanfunctions_impl.py:1620: RuntimeWarning: All-NaN slice encountered\n",
      "  return fnb._ureduce(a,\n",
      "/Users/tdowning/.pyenv/versions/ds-aa-cub-hurricanes/lib/python3.11/site-packages/numpy/lib/_nanfunctions_impl.py:1620: RuntimeWarning: All-NaN slice encountered\n",
      "  return fnb._ureduce(a,\n",
      "/Users/tdowning/.pyenv/versions/ds-aa-cub-hurricanes/lib/python3.11/site-packages/numpy/lib/_nanfunctions_impl.py:1620: RuntimeWarning: All-NaN slice encountered\n",
      "  return fnb._ureduce(a,\n",
      "/Users/tdowning/.pyenv/versions/ds-aa-cub-hurricanes/lib/python3.11/site-packages/numpy/lib/_nanfunctions_impl.py:1620: RuntimeWarning: All-NaN slice encountered\n",
      "  return fnb._ureduce(a,\n",
      "/Users/tdowning/.pyenv/versions/ds-aa-cub-hurricanes/lib/python3.11/site-packages/numpy/lib/_nanfunctions_impl.py:1620: RuntimeWarning: All-NaN slice encountered\n",
      "  return fnb._ureduce(a,\n",
      "/Users/tdowning/.pyenv/versions/ds-aa-cub-hurricanes/lib/python3.11/site-packages/numpy/lib/_nanfunctions_impl.py:1620: RuntimeWarning: All-NaN slice encountered\n",
      "  return fnb._ureduce(a,\n",
      "/Users/tdowning/.pyenv/versions/ds-aa-cub-hurricanes/lib/python3.11/site-packages/numpy/lib/_nanfunctions_impl.py:1620: RuntimeWarning: All-NaN slice encountered\n",
      "  return fnb._ureduce(a,\n",
      "/Users/tdowning/.pyenv/versions/ds-aa-cub-hurricanes/lib/python3.11/site-packages/numpy/lib/_nanfunctions_impl.py:1620: RuntimeWarning: All-NaN slice encountered\n",
      "  return fnb._ureduce(a,\n",
      "/Users/tdowning/.pyenv/versions/ds-aa-cub-hurricanes/lib/python3.11/site-packages/numpy/lib/_nanfunctions_impl.py:1620: RuntimeWarning: All-NaN slice encountered\n",
      "  return fnb._ureduce(a,\n",
      "/Users/tdowning/.pyenv/versions/ds-aa-cub-hurricanes/lib/python3.11/site-packages/numpy/lib/_nanfunctions_impl.py:1620: RuntimeWarning: All-NaN slice encountered\n",
      "  return fnb._ureduce(a,\n",
      "/Users/tdowning/.pyenv/versions/ds-aa-cub-hurricanes/lib/python3.11/site-packages/numpy/lib/_nanfunctions_impl.py:1620: RuntimeWarning: All-NaN slice encountered\n",
      "  return fnb._ureduce(a,\n",
      "/Users/tdowning/.pyenv/versions/ds-aa-cub-hurricanes/lib/python3.11/site-packages/numpy/lib/_nanfunctions_impl.py:1620: RuntimeWarning: All-NaN slice encountered\n",
      "  return fnb._ureduce(a,\n",
      "/Users/tdowning/.pyenv/versions/ds-aa-cub-hurricanes/lib/python3.11/site-packages/numpy/lib/_nanfunctions_impl.py:1620: RuntimeWarning: All-NaN slice encountered\n",
      "  return fnb._ureduce(a,\n",
      "/Users/tdowning/.pyenv/versions/ds-aa-cub-hurricanes/lib/python3.11/site-packages/numpy/lib/_nanfunctions_impl.py:1620: RuntimeWarning: All-NaN slice encountered\n",
      "  return fnb._ureduce(a,\n",
      "/Users/tdowning/.pyenv/versions/ds-aa-cub-hurricanes/lib/python3.11/site-packages/numpy/lib/_nanfunctions_impl.py:1620: RuntimeWarning: All-NaN slice encountered\n",
      "  return fnb._ureduce(a,\n",
      "/Users/tdowning/.pyenv/versions/ds-aa-cub-hurricanes/lib/python3.11/site-packages/numpy/lib/_nanfunctions_impl.py:1620: RuntimeWarning: All-NaN slice encountered\n",
      "  return fnb._ureduce(a,\n",
      "/Users/tdowning/.pyenv/versions/ds-aa-cub-hurricanes/lib/python3.11/site-packages/numpy/lib/_nanfunctions_impl.py:1620: RuntimeWarning: All-NaN slice encountered\n",
      "  return fnb._ureduce(a,\n",
      "/Users/tdowning/.pyenv/versions/ds-aa-cub-hurricanes/lib/python3.11/site-packages/numpy/lib/_nanfunctions_impl.py:1620: RuntimeWarning: All-NaN slice encountered\n",
      "  return fnb._ureduce(a,\n",
      "/Users/tdowning/.pyenv/versions/ds-aa-cub-hurricanes/lib/python3.11/site-packages/numpy/lib/_nanfunctions_impl.py:1620: RuntimeWarning: All-NaN slice encountered\n",
      "  return fnb._ureduce(a,\n",
      "/Users/tdowning/.pyenv/versions/ds-aa-cub-hurricanes/lib/python3.11/site-packages/numpy/lib/_nanfunctions_impl.py:1620: RuntimeWarning: All-NaN slice encountered\n",
      "  return fnb._ureduce(a,\n",
      "/Users/tdowning/.pyenv/versions/ds-aa-cub-hurricanes/lib/python3.11/site-packages/numpy/lib/_nanfunctions_impl.py:1620: RuntimeWarning: All-NaN slice encountered\n",
      "  return fnb._ureduce(a,\n",
      "/Users/tdowning/.pyenv/versions/ds-aa-cub-hurricanes/lib/python3.11/site-packages/numpy/lib/_nanfunctions_impl.py:1620: RuntimeWarning: All-NaN slice encountered\n",
      "  return fnb._ureduce(a,\n",
      "/Users/tdowning/.pyenv/versions/ds-aa-cub-hurricanes/lib/python3.11/site-packages/numpy/lib/_nanfunctions_impl.py:1620: RuntimeWarning: All-NaN slice encountered\n",
      "  return fnb._ureduce(a,\n",
      "/Users/tdowning/.pyenv/versions/ds-aa-cub-hurricanes/lib/python3.11/site-packages/numpy/lib/_nanfunctions_impl.py:1620: RuntimeWarning: All-NaN slice encountered\n",
      "  return fnb._ureduce(a,\n",
      "/Users/tdowning/.pyenv/versions/ds-aa-cub-hurricanes/lib/python3.11/site-packages/numpy/lib/_nanfunctions_impl.py:1620: RuntimeWarning: All-NaN slice encountered\n",
      "  return fnb._ureduce(a,\n",
      "/Users/tdowning/.pyenv/versions/ds-aa-cub-hurricanes/lib/python3.11/site-packages/numpy/lib/_nanfunctions_impl.py:1620: RuntimeWarning: All-NaN slice encountered\n",
      "  return fnb._ureduce(a,\n",
      "/Users/tdowning/.pyenv/versions/ds-aa-cub-hurricanes/lib/python3.11/site-packages/numpy/lib/_nanfunctions_impl.py:1620: RuntimeWarning: All-NaN slice encountered\n",
      "  return fnb._ureduce(a,\n",
      "/Users/tdowning/.pyenv/versions/ds-aa-cub-hurricanes/lib/python3.11/site-packages/numpy/lib/_nanfunctions_impl.py:1620: RuntimeWarning: All-NaN slice encountered\n",
      "  return fnb._ureduce(a,\n"
     ]
    }
   ],
   "source": [
    "start_date = \"2000-01-01\"\n",
    "end_date = \"2024-12-31\"\n",
    "\n",
    "full_date_range = pd.date_range(start=start_date, end=end_date, freq=\"D\")\n",
    "\n",
    "missing_date_range = full_date_range[\n",
    "    ~full_date_range.isin(df_complete_dates[\"issued_date\"].to_list())\n",
    "]\n",
    "\n",
    "print(\"processing for dates:\")\n",
    "display(missing_date_range)\n",
    "\n",
    "verbose = False\n",
    "\n",
    "for issue_date in tqdm(missing_date_range):\n",
    "    das_i = []\n",
    "    for leadtime in range(16):\n",
    "        valid_date = issue_date + pd.Timedelta(days=leadtime)\n",
    "        try:\n",
    "            da_in = loader.load_raster(issue_date, valid_date)\n",
    "            da_in[\"valid_date\"] = valid_date\n",
    "            das_i.append(da_in)\n",
    "        except ResourceNotFoundError as e:\n",
    "            if verbose:\n",
    "                print(f\"{e} for {issue_date} {valid_date}\")\n",
    "\n",
    "    if das_i:\n",
    "        da_i = xr.concat(das_i, dim=\"valid_date\")\n",
    "        da_i_clip = da_i.rio.clip(adm0.geometry, all_touched=True)\n",
    "        da_rolling2 = da_i_clip.rolling(valid_date=2).sum()\n",
    "        for quantile in quantiles:\n",
    "            da_quantile_threshs = da_rolling2.quantile(\n",
    "                quantile, dim=[\"x\", \"y\"]\n",
    "            )\n",
    "            df_out = (\n",
    "                da_quantile_threshs.to_dataframe(\"value\")\n",
    "                .reset_index()\n",
    "                .drop(columns=\"quantile\")\n",
    "            )\n",
    "            df_out[\"variable\"] = f\"q{quantile*100:.0f}\"\n",
    "            df_out[\"issued_date\"] = issue_date\n",
    "            write_to_db(df_out)\n",
    "        da_means = da_rolling2.mean(dim=[\"x\", \"y\"])\n",
    "        df_out = (\n",
    "            da_means.to_dataframe(\"value\")\n",
    "            .reset_index()\n",
    "            .drop(columns=\"spatial_ref\")\n",
    "        )\n",
    "        df_out[\"variable\"] = \"mean\"\n",
    "        df_out[\"issued_date\"] = issue_date\n",
    "        write_to_db(df_out)\n",
    "    else:\n",
    "        if verbose:\n",
    "            print(f\"no files for issue_date {issue_date}\")"
   ]
  },
  {
   "cell_type": "code",
   "execution_count": null,
   "id": "9c4f1a8b-7644-4422-9b13-d2099b741e09",
   "metadata": {},
   "outputs": [],
   "source": []
  }
 ],
 "metadata": {
  "jupytext": {
   "formats": "ipynb,md"
  },
  "kernelspec": {
   "display_name": "ds-aa-cub-hurricanes",
   "language": "python",
   "name": "ds-aa-cub-hurricanes"
  },
  "language_info": {
   "codemirror_mode": {
    "name": "ipython",
    "version": 3
   },
   "file_extension": ".py",
   "mimetype": "text/x-python",
   "name": "python",
   "nbconvert_exporter": "python",
   "pygments_lexer": "ipython3",
   "version": "3.11.4"
  }
 },
 "nbformat": 4,
 "nbformat_minor": 5
}
