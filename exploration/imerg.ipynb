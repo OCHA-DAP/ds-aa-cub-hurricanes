{
 "cells": [
  {
   "cell_type": "markdown",
   "id": "e82da95d-5365-4548-8740-ceb50e276ccb",
   "metadata": {},
   "source": [
    "# IMERG\n",
    "<!-- markdownlint-disable MD013 -->"
   ]
  },
  {
   "cell_type": "code",
   "execution_count": 1,
   "id": "b684c75f-f85d-4ed0-a57b-7c1171a592f0",
   "metadata": {},
   "outputs": [
    {
     "data": {
      "text/html": [
       "\n",
       "                <script type=\"application/javascript\" id=\"jupyter_black\">\n",
       "                (function() {\n",
       "                    if (window.IPython === undefined) {\n",
       "                        return\n",
       "                    }\n",
       "                    var msg = \"WARNING: it looks like you might have loaded \" +\n",
       "                        \"jupyter_black in a non-lab notebook with \" +\n",
       "                        \"`is_lab=True`. Please double check, and if \" +\n",
       "                        \"loading with `%load_ext` please review the README!\"\n",
       "                    console.log(msg)\n",
       "                    alert(msg)\n",
       "                })()\n",
       "                </script>\n",
       "                "
      ],
      "text/plain": [
       "<IPython.core.display.HTML object>"
      ]
     },
     "metadata": {},
     "output_type": "display_data"
    }
   ],
   "source": [
    "%load_ext jupyter_black\n",
    "%load_ext autoreload\n",
    "%autoreload 2"
   ]
  },
  {
   "cell_type": "code",
   "execution_count": 14,
   "id": "21c32ed7-2645-446f-b6ff-5d02c0ddf621",
   "metadata": {},
   "outputs": [],
   "source": [
    "import pandas as pd\n",
    "\n",
    "from src.datasources import imerg"
   ]
  },
  {
   "cell_type": "code",
   "execution_count": 5,
   "id": "274e244b-bc48-4afa-a246-0892063b4061",
   "metadata": {},
   "outputs": [],
   "source": [
    "pcode = \"CU\""
   ]
  },
  {
   "cell_type": "code",
   "execution_count": 7,
   "id": "8b5cd151-3be3-4ec5-9f1a-c873cd9d22de",
   "metadata": {},
   "outputs": [],
   "source": [
    "df_imerg = imerg.load_imerg(pcode)"
   ]
  },
  {
   "cell_type": "code",
   "execution_count": 15,
   "id": "81b49acf-dd02-4abf-9efa-ccd6a2884377",
   "metadata": {},
   "outputs": [],
   "source": [
    "df_imerg[\"valid_date\"] = pd.to_datetime(df_imerg[\"valid_date\"])"
   ]
  },
  {
   "cell_type": "code",
   "execution_count": 16,
   "id": "63efbf77-9656-4168-bd10-026d2f68eac9",
   "metadata": {},
   "outputs": [
    {
     "data": {
      "text/plain": [
       "<Axes: >"
      ]
     },
     "execution_count": 16,
     "metadata": {},
     "output_type": "execute_result"
    },
    {
     "data": {
      "image/png": "[encoded data removed]",
      "text/plain": [
       "<Figure size 640x480 with 1 Axes>"
      ]
     },
     "metadata": {},
     "output_type": "display_data"
    }
   ],
   "source": [
    "df_imerg[\"mean\"].hist()"
   ]
  },
  {
   "cell_type": "code",
   "execution_count": 17,
   "id": "012998ff-73e6-40d8-96b2-7e0f45244cdf",
   "metadata": {},
   "outputs": [],
   "source": [
    "df_imerg[\"roll2_mean\"] = df_imerg[\"mean\"].rolling(2).sum()"
   ]
  },
  {
   "cell_type": "code",
   "execution_count": 21,
   "id": "d4a141cc-7c22-4c1d-b7ad-0ab50d823518",
   "metadata": {},
   "outputs": [
    {
     "data": {
      "text/html": [
       "<div>\n",
       "<style scoped>\n",
       "    .dataframe tbody tr th:only-of-type {\n",
       "        vertical-align: middle;\n",
       "    }\n",
       "\n",
       "    .dataframe tbody tr th {\n",
       "        vertical-align: top;\n",
       "    }\n",
       "\n",
       "    .dataframe thead th {\n",
       "        text-align: right;\n",
       "    }\n",
       "</style>\n",
       "<table border=\"1\" class=\"dataframe\">\n",
       "  <thead>\n",
       "    <tr style=\"text-align: right;\">\n",
       "      <th></th>\n",
       "      <th>valid_date</th>\n",
       "      <th>roll2_mean</th>\n",
       "    </tr>\n",
       "  </thead>\n",
       "  <tbody>\n",
       "    <tr>\n",
       "      <th>0</th>\n",
       "      <td>2000</td>\n",
       "      <td>63.674508</td>\n",
       "    </tr>\n",
       "    <tr>\n",
       "      <th>1</th>\n",
       "      <td>2001</td>\n",
       "      <td>120.507424</td>\n",
       "    </tr>\n",
       "    <tr>\n",
       "      <th>2</th>\n",
       "      <td>2002</td>\n",
       "      <td>111.557137</td>\n",
       "    </tr>\n",
       "    <tr>\n",
       "      <th>3</th>\n",
       "      <td>2003</td>\n",
       "      <td>60.517828</td>\n",
       "    </tr>\n",
       "    <tr>\n",
       "      <th>4</th>\n",
       "      <td>2004</td>\n",
       "      <td>44.279298</td>\n",
       "    </tr>\n",
       "    <tr>\n",
       "      <th>5</th>\n",
       "      <td>2005</td>\n",
       "      <td>97.973385</td>\n",
       "    </tr>\n",
       "    <tr>\n",
       "      <th>6</th>\n",
       "      <td>2006</td>\n",
       "      <td>83.022918</td>\n",
       "    </tr>\n",
       "    <tr>\n",
       "      <th>7</th>\n",
       "      <td>2007</td>\n",
       "      <td>95.026070</td>\n",
       "    </tr>\n",
       "    <tr>\n",
       "      <th>8</th>\n",
       "      <td>2008</td>\n",
       "      <td>114.313233</td>\n",
       "    </tr>\n",
       "    <tr>\n",
       "      <th>9</th>\n",
       "      <td>2009</td>\n",
       "      <td>62.509863</td>\n",
       "    </tr>\n",
       "    <tr>\n",
       "      <th>10</th>\n",
       "      <td>2010</td>\n",
       "      <td>125.514080</td>\n",
       "    </tr>\n",
       "    <tr>\n",
       "      <th>11</th>\n",
       "      <td>2011</td>\n",
       "      <td>97.300541</td>\n",
       "    </tr>\n",
       "    <tr>\n",
       "      <th>12</th>\n",
       "      <td>2012</td>\n",
       "      <td>80.108310</td>\n",
       "    </tr>\n",
       "    <tr>\n",
       "      <th>13</th>\n",
       "      <td>2013</td>\n",
       "      <td>48.132240</td>\n",
       "    </tr>\n",
       "    <tr>\n",
       "      <th>14</th>\n",
       "      <td>2014</td>\n",
       "      <td>91.623430</td>\n",
       "    </tr>\n",
       "    <tr>\n",
       "      <th>15</th>\n",
       "      <td>2015</td>\n",
       "      <td>51.418671</td>\n",
       "    </tr>\n",
       "    <tr>\n",
       "      <th>16</th>\n",
       "      <td>2016</td>\n",
       "      <td>77.450830</td>\n",
       "    </tr>\n",
       "    <tr>\n",
       "      <th>17</th>\n",
       "      <td>2017</td>\n",
       "      <td>82.463090</td>\n",
       "    </tr>\n",
       "    <tr>\n",
       "      <th>18</th>\n",
       "      <td>2018</td>\n",
       "      <td>108.781929</td>\n",
       "    </tr>\n",
       "    <tr>\n",
       "      <th>19</th>\n",
       "      <td>2019</td>\n",
       "      <td>61.175295</td>\n",
       "    </tr>\n",
       "    <tr>\n",
       "      <th>20</th>\n",
       "      <td>2020</td>\n",
       "      <td>112.243160</td>\n",
       "    </tr>\n",
       "    <tr>\n",
       "      <th>21</th>\n",
       "      <td>2021</td>\n",
       "      <td>75.821024</td>\n",
       "    </tr>\n",
       "    <tr>\n",
       "      <th>22</th>\n",
       "      <td>2022</td>\n",
       "      <td>85.722103</td>\n",
       "    </tr>\n",
       "    <tr>\n",
       "      <th>23</th>\n",
       "      <td>2023</td>\n",
       "      <td>99.384370</td>\n",
       "    </tr>\n",
       "    <tr>\n",
       "      <th>24</th>\n",
       "      <td>2024</td>\n",
       "      <td>66.345132</td>\n",
       "    </tr>\n",
       "    <tr>\n",
       "      <th>25</th>\n",
       "      <td>2025</td>\n",
       "      <td>16.650580</td>\n",
       "    </tr>\n",
       "  </tbody>\n",
       "</table>\n",
       "</div>"
      ],
      "text/plain": [
       "    valid_date  roll2_mean\n",
       "0         2000   63.674508\n",
       "1         2001  120.507424\n",
       "2         2002  111.557137\n",
       "3         2003   60.517828\n",
       "4         2004   44.279298\n",
       "5         2005   97.973385\n",
       "6         2006   83.022918\n",
       "7         2007   95.026070\n",
       "8         2008  114.313233\n",
       "9         2009   62.509863\n",
       "10        2010  125.514080\n",
       "11        2011   97.300541\n",
       "12        2012   80.108310\n",
       "13        2013   48.132240\n",
       "14        2014   91.623430\n",
       "15        2015   51.418671\n",
       "16        2016   77.450830\n",
       "17        2017   82.463090\n",
       "18        2018  108.781929\n",
       "19        2019   61.175295\n",
       "20        2020  112.243160\n",
       "21        2021   75.821024\n",
       "22        2022   85.722103\n",
       "23        2023   99.384370\n",
       "24        2024   66.345132\n",
       "25        2025   16.650580"
      ]
     },
     "execution_count": 21,
     "metadata": {},
     "output_type": "execute_result"
    }
   ],
   "source": [
    "df_imerg.groupby(df_imerg[\"valid_date\"].dt.year)[\n",
    "    \"roll2_mean\"\n",
    "].max().reset_index()"
   ]
  },
  {
   "cell_type": "code",
   "execution_count": null,
   "id": "9613473d-a0a9-4a0a-bc43-6f061168dbb0",
   "metadata": {},
   "outputs": [],
   "source": []
  }
 ],
 "metadata": {
  "jupytext": {
   "formats": "ipynb,md"
  },
  "kernelspec": {
   "display_name": "ds-aa-cub-hurricanes",
   "language": "python",
   "name": "ds-aa-cub-hurricanes"
  },
  "language_info": {
   "codemirror_mode": {
    "name": "ipython",
    "version": 3
   },
   "file_extension": ".py",
   "mimetype": "text/x-python",
   "name": "python",
   "nbconvert_exporter": "python",
   "pygments_lexer": "ipython3",
   "version": "3.11.4"
  }
 },
 "nbformat": 4,
 "nbformat_minor": 5
}
